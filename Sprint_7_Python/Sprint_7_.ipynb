{
 "cells": [
  {
   "cell_type": "markdown",
   "id": "09e08da4",
   "metadata": {},
   "source": [
    "# Nivell 1"
   ]
  },
  {
   "cell_type": "markdown",
   "id": "c826f060",
   "metadata": {},
   "source": [
    "**Exercici 1: Calculadora de l'índex de massa corporal**\n",
    "- Escriu una funció que calculi l'IMC ingressat per l'usuari/ària, és a dir, qui ho executi haurà d'ingressar aquestes dades. \n",
    "- La funció ha de classificar el resultat en les seves respectives categories"
   ]
  },
  {
   "cell_type": "markdown",
   "id": "0809e4a4",
   "metadata": {},
   "source": [
    "Explicación del código:\n",
    "- Creamos una función para que pida al usuario su peso y su altura. \n",
    "- Ayudados de un bucle while, añadimos algunas validaciones para asegurarnos que los datos introducidos son positivos tanto para el peso como para la altura.\n",
    "- Si no se superan las dos validaciones al introducir los datos, se repite el bucle únicamente para esa variable. Esto lo conseguimmos anidando otros dos bucles while al solicitar cada una de las dos variables que necesitamos. Si el dato supera la validación, se rompe el bucle y pasamos al siguiente.\n",
    "- Devolvemos los valores de peso y altura introducidos con un \"return\""
   ]
  },
  {
   "cell_type": "code",
   "execution_count": null,
   "id": "17e706e2",
   "metadata": {},
   "outputs": [],
   "source": [
    "def datos_imc():\n",
    "    while True:\n",
    "        try:\n",
    "            peso = float(input(\"Escribe tu peso en kilos: \"))\n",
    "            #validación para que el valor introducido sea positivo\n",
    "            if peso <= 0:\n",
    "                print(\"Error. El peso debe ser un valor positivo.\")\n",
    "            else:\n",
    "                break\n",
    "            #validación para que el valor introducido sea numérico. Empleamos try/except para que el programa no se detenga\n",
    "        except ValueError:\n",
    "            print(\"Error. Introduce un valor numérico para el peso.\")\n",
    "\n",
    "    while True:\n",
    "        try:\n",
    "            altura = float(input(\"Escribe tu altura en metros: \"))\n",
    "            if altura <= 0:\n",
    "                print(\"Error. La altura debe ser un valor positivo.\")\n",
    "            else:\n",
    "                break\n",
    "        except ValueError:\n",
    "            print(\"Error. Introduce un valor numérico para la altura.\")\n",
    "\n",
    "    return peso, altura\n",
    "\n",
    "\n"
   ]
  },
  {
   "cell_type": "markdown",
   "id": "e80106ca",
   "metadata": {},
   "source": [
    "Explicación del código:\n",
    "- Creamos una función para calcular el IMC según los valores introducidos por el usuario. Además, los clasificamos según el resultado mediante una estructura condicional.\n",
    "- Devolvemos las variables imc y categoría con un \"return\""
   ]
  },
  {
   "cell_type": "code",
   "execution_count": null,
   "id": "018573d5",
   "metadata": {},
   "outputs": [],
   "source": [
    "def clasificacion_imc(peso,altura):\n",
    "    imc = round(peso / (altura ** 2),2)\n",
    "    if imc < 18.5:\n",
    "        categoria = \"bajo peso\"\n",
    "    elif imc <= 24.9:\n",
    "        categoria = \"peso normal\"\n",
    "    elif imc <=29.9:\n",
    "        categoria = \"sobrepeso\"\n",
    "    else:\n",
    "        categoria = \"obesidad\"\n",
    "    return imc, categoria\n"
   ]
  },
  {
   "cell_type": "markdown",
   "id": "58449139",
   "metadata": {},
   "source": [
    "Explicación del código:\n",
    "- Definimos la función principal para que se ejecute en orden\n",
    "- Indicamos mediante un print el texto que debe acompañar a los valores obtenidos.\n",
    "- Llamos a la función"
   ]
  },
  {
   "cell_type": "code",
   "execution_count": null,
   "id": "3efe9f2e",
   "metadata": {},
   "outputs": [],
   "source": [
    "def calcular_imc():\n",
    "    peso, altura = datos_imc()  \n",
    "    imc, categoria = clasificacion_imc(peso, altura)\n",
    "    print(f\"Tu IMC es de {imc} y se considera {categoria}.\")\n",
    "\n",
    "calcular_imc()\n"
   ]
  },
  {
   "cell_type": "markdown",
   "id": "ad9b9be2",
   "metadata": {},
   "source": [
    "**Exercici 2: Convertidor de temperatures**\n",
    "\n",
    "Existeixen diverses unitats de temperatura utilitzades en diferents contextos i regions. Les més comunes són Celsius (°C), Fahrenheit (°F) i Kelvin (K). També existeixen altres unitats com Rankine (°Ra) i Réaumur (°Re).\n",
    "\n",
    "Selecciona almenys 2 conversors, de tal manera que en introduir una temperatura retorni, com a mínim, dues conversions."
   ]
  },
  {
   "cell_type": "markdown",
   "id": "170ba2fe",
   "metadata": {},
   "source": [
    "Explicación del código:\n",
    "- Función para almacenar las tablas de conversión de Celsius a Fahrenheit, Kelvin, Mired*, Rankine y Réaumur\n",
    "- Creamos un diccionario llamada \"conversiones\" en el cual la clave será la descripción del valor a convertir, que contendrá la fórmula de la conversión\n",
    "- Usamos lambda para poder crear funciones básicas directamente dentro del diccionario como valores. De esta forma cuando llamemos al valor, se aplicará la fórmula directamente.\n",
    "- Creamos un segundo diccionario vacio en el que almacenaremos los resultados de la conversión de temperatura.\n",
    "- Mediante un bucle for, recorremos los pares clave:valor del diccionario y aplica la fórmula en cada línea del diccionario.\n",
    "- Devolvemos los resultados con el nombre de la conversión y los valores convertidos."
   ]
  },
  {
   "cell_type": "code",
   "execution_count": 2,
   "id": "6eb43ea8",
   "metadata": {},
   "outputs": [],
   "source": [
    "def diccionario_conversiones(celsius):\n",
    "    conversiones = {     \n",
    "        \"Fahrenheit\": lambda c: (c * 9/5) + 32,\n",
    "        \"Kelvin\": lambda c: c + 273.15,\n",
    "        \"Mired\": lambda c: 1_000_000 / (c + 273.15) if c > -273.15 else float('inf'),\n",
    "        \"Rankine\": lambda c: (c + 273.15) * 9/5,\n",
    "        \"Réaumur\": lambda c: c * 4/5\n",
    "    }\n",
    "\n",
    "    resultados = {}\n",
    "    for nombre, formula in conversiones.items():\n",
    "        resultados[nombre] = formula(celsius)\n",
    "\n",
    "    return resultados"
   ]
  },
  {
   "cell_type": "markdown",
   "id": "6e6271c6",
   "metadata": {},
   "source": [
    "Explicación del código:\n",
    "- Pedimos al usuario que introduzca una temperatura en grados Celsius y lo convertimos de string a float.\n",
    "- Validamos los datos introducidos por el usuario para que aparezca un mensaje de error si no se introduce un float\n",
    "- Llamamos a la función pasándome como argumento el valor introducido por el usuario\n",
    "- Guardamos el resultado de la función en la variable resultados_conversion, que es un diccionario\n",
    "- Recorremos el diccionario con las conversiones para obtener la clave y el valor y los formateamos para obtener la salida"
   ]
  },
  {
   "cell_type": "code",
   "execution_count": 7,
   "id": "4661cfcf",
   "metadata": {},
   "outputs": [],
   "source": [
    "def conversor_temperatura():\n",
    "    while True:\n",
    "        entrada = input(\"Introduce una temperatura en °C: \")\n",
    "        try:\n",
    "            valor_entrada = float(entrada)\n",
    "            break\n",
    "        except ValueError:\n",
    "            print(\"Por favor, introduce un número válido (ej: 20 o -4)\")\n",
    "\n",
    "    print(f\"\\n{valor_entrada} grados Celsius equivalen a:\")\n",
    "\n",
    "    resultados_conversion = diccionario_conversiones(valor_entrada)\n",
    "\n",
    "    for escala, valor in resultados_conversion.items():\n",
    "        print(f\"{valor:.2f} grados {escala}\")\n"
   ]
  },
  {
   "cell_type": "markdown",
   "id": "cc916f65",
   "metadata": {},
   "source": [
    "Explicación del código:\n",
    "\n",
    "- Llamamos a la función"
   ]
  },
  {
   "cell_type": "code",
   "execution_count": 8,
   "id": "f28b5d2d",
   "metadata": {},
   "outputs": [
    {
     "name": "stdout",
     "output_type": "stream",
     "text": [
      "Por favor, introduce un número válido (ej: 20 o -4)\n",
      "\n",
      "20.0 grados Celsius equivalen a:\n",
      "68.00 grados Fahrenheit\n",
      "293.15 grados Kelvin\n",
      "3411.22 grados Mired\n",
      "527.67 grados Rankine\n",
      "16.00 grados Réaumur\n"
     ]
    }
   ],
   "source": [
    "\n",
    "conversor_temperatura()"
   ]
  },
  {
   "cell_type": "markdown",
   "id": "152b4a3a",
   "metadata": {},
   "source": [
    "**Exercici 3: Comptador de paraules d'un text.**\n",
    "\n",
    "Escriu una funció que donat un text, mostri les vegades que apareix cada paraula."
   ]
  },
  {
   "cell_type": "markdown",
   "id": "e0724027",
   "metadata": {},
   "source": [
    "Explicación del código:\n",
    "\n",
    "- Creamos una función a la que no le asignamos ningún argumento.\n",
    "- Solicitamos al usuario que introduzca un texto y lo guardamos en la variable \"texto\", a la cual eliminamos todos los signos de puntuación con la función \"replace\" para que la función no pueda contarlos.\n",
    "- Separamos el texto en palabras con la función \"split\" y lo almacenamos en \"palabras\"\n",
    "- Creamos un diccionario vacio para almacenar el recuento de las palabras\n",
    "- Mediante un bucle for, recorremos \"palabras\" e indicamos mediante una estructura condicional que si la palabra ya se encuentra en el diccionario, que la sume a la unidad existente, y si no, que la añada por primera vez.\n",
    "- Montamos el output mediante un print, para lo que accedemos al recuento de palabras del diccionario mediante \"items\" para acceder a las parejas clave/valor, a las que hemos llamada \"palabra\" y \"contaje\""
   ]
  },
  {
   "cell_type": "code",
   "execution_count": null,
   "id": "acd3a5df",
   "metadata": {},
   "outputs": [],
   "source": [
    "def contador_palabras():\n",
    "    texto = input(\"Escribe un texto:\")\n",
    "    texto = texto.replace(\".\", \"\").replace(\",\", \"\").replace(\"!\", \"\").replace(\"¡\", \"\").replace(\"¿\", \"\").replace(\"?\", \"\")  # Eliminamos puntuación\n",
    "    palabras = texto.split()  # Separamos el texto en palabras\n",
    "\n",
    "    dic_recuento = {}  # Creamos un diccionario vacío\n",
    "\n",
    "    for palabra in palabras:\n",
    "        if palabra in dic_recuento:\n",
    "            dic_recuento[palabra] += 1\n",
    "        else:\n",
    "            dic_recuento[palabra] = 1\n",
    "\n",
    "    print(\"El texto contiene el recuento de las siguientes palabras:\")\n",
    "    for palabra, contaje in dic_recuento.items():\n",
    "        print(f\"{palabra} : {contaje}\")\n",
    "\n",
    "    return dic_recuento\n"
   ]
  },
  {
   "cell_type": "code",
   "execution_count": null,
   "id": "7d160b34",
   "metadata": {},
   "outputs": [],
   "source": [
    "mi_diccionario = contador_palabras()"
   ]
  },
  {
   "cell_type": "markdown",
   "id": "e5cebafa",
   "metadata": {},
   "source": [
    "# Exercici 4: Diccionari invers\n",
    "\n",
    "Resulta que el client té una enquesta molt antiga que s'emmagatzema en un diccionari i els resultats els necessita al revés, és a dir, intercanviats les claus i els valors. Els valors i claus en el diccionari original són únics; si aquest no és el cas, la funció hauria d'imprimir un missatge d'advertiment."
   ]
  },
  {
   "cell_type": "markdown",
   "id": "1eb4c030",
   "metadata": {},
   "source": [
    "Explicación del código:\n",
    "\n",
    "- Creamos una función a las que llamamos \"invertir_dic\", y le pasamos como argumento \"dic_original\n",
    "- Creamos un diccionario vacio donde almacenaremos la inversión del diccionario original. Lo llamamos \"dic_invertido\"\n",
    "Mediante un bucle for, accedemos a la clave y al valor de \"dic_original\" mediante la función \"items()\". Indicamos que si el valor ya se encuentra en el \"dic_invertido\" (como clave), aparezca un mensaje de error. Si no aparece, que convierta el valor original en clave.\n",
    "- Pedimos que nos retorne el diccionario invertido\n"
   ]
  },
  {
   "cell_type": "code",
   "execution_count": null,
   "id": "feb0a325",
   "metadata": {},
   "outputs": [],
   "source": [
    "def invertir_dic (dic_original):\n",
    "    dic_invertido = {}\n",
    "\n",
    "    for clave, valor in dic_original.items():\n",
    "        if valor in dic_invertido:\n",
    "            print(\"Cuidado, hay datos duplicados al invertir el diccionario original\")\n",
    "        else:\n",
    "            dic_invertido[valor] = clave\n",
    "    \n",
    "    return dic_invertido"
   ]
  },
  {
   "cell_type": "markdown",
   "id": "9e50ca50",
   "metadata": {},
   "source": [
    "Explicación del código:\n",
    "\n",
    "- Creamos un diccionario con parejas de clave y valor inventados. Repetimos algún valor para que comprobar que la función funciona, ya que luego swe convertirá en clave y éstas han de ser únicas en un diccionario\n",
    "- Creamos una variable a la que llamaremos \"nuevo_diccionario\" y la usaremos para guardar la función, a la que pasaremos como argumento el nombre del diccionario ficticio creado con los valores a invertir.\n",
    "- Realizamos un print de la variable."
   ]
  },
  {
   "cell_type": "code",
   "execution_count": null,
   "id": "af1c0f6f",
   "metadata": {},
   "outputs": [],
   "source": [
    "encuesta = {\n",
    "    \"Manuel\": \"sí\",\n",
    "    \"Juan\": \"no\",\n",
    "    \"Rosa\": \"seguro que no\",\n",
    "    \"Maria\": \"sí\",\n",
    "    \"Iris\": \"probablemente\",\n",
    "    \"Gemma\": \"quizá\",\n",
    "    \"Pedro\": \"seguramente sí\",\n",
    "}\n",
    "\n",
    "nuevo_diccionario = invertir_dic(encuesta)\n",
    "print(nuevo_diccionario)"
   ]
  },
  {
   "cell_type": "markdown",
   "id": "a77903bd",
   "metadata": {},
   "source": [
    "# Nivell 2"
   ]
  },
  {
   "cell_type": "markdown",
   "id": "39d8cff0",
   "metadata": {},
   "source": [
    "# Exercici 1: Diccionari invers amb duplicats\n",
    "\n",
    "Continuant amb l'exercici 4 del nivell 1: al client es va oblidar de comentar un detall i resulta que els valors en el diccionari original poden duplicar-se i més, per la qual cosa les claus intercanviades poden tenir duplicats. En aquest cas, en l'exercici anterior imprimies un missatge d'advertiment, ara, els valors del diccionari resultant hauran d'emmagatzemar-se com una llista. Tingues en compte que si és un valor únic no ha de ser una llista.\n"
   ]
  },
  {
   "cell_type": "markdown",
   "id": "a55dd98e",
   "metadata": {},
   "source": [
    "Explicación del código:\n",
    "\n",
    "- Creamos una función a las que llamamos \"invertir_dic\", y le pasamos como argumento \"dic_original\n",
    "- Creamos un diccionario vacio donde almacenaremos la inversión del diccionario original. Lo llamamos \"dic_invertido\"\n",
    "Mediante un bucle for, accedemos a la clave y al valor de \"dic_original\" mediante la función \"items()\". Indicamos que si el valor ya se encuentra en el \"dic_invertido\" (como clave), lo añada como lista asociada a esa clave. Se añadirá al final de la lista asociada, agrupando las claves que compartan el mismo valor. Y si aún no se encuentran como clave, que lo añada como una lista\n",
    "- Con el último \"else\", indicamos que si el valor no se encuentra en el diccionario lo puede agregar directamente y cree una nueva entrada de pareja clave valor en el diccionario, pero invertido.\n",
    "- Pedimos que nos retorne el diccionario invertido"
   ]
  },
  {
   "cell_type": "code",
   "execution_count": null,
   "id": "767800ed",
   "metadata": {},
   "outputs": [],
   "source": [
    "def invertir_dic(dic_original):\n",
    "    dic_invertido = {}\n",
    "\n",
    "    for clau, valor in dic_original.items():\n",
    "        if valor in dic_invertido:\n",
    "            # Si ja hi ha un valor existent, convertim-lo en llista (si no ho és)\n",
    "            if isinstance(dic_invertido[valor], list):\n",
    "                dic_invertido[valor].append(clau)\n",
    "            else:\n",
    "                dic_invertido[valor] = [dic_invertido[valor], clau]\n",
    "        else:\n",
    "            dic_invertido[valor] = clau\n",
    "\n",
    "    return dic_invertido\n"
   ]
  },
  {
   "cell_type": "markdown",
   "id": "316646cc",
   "metadata": {},
   "source": [
    "Explicación del código:\n",
    "\n",
    "- Creamos un diccionario con parejas de clave y valor inventados. Repetimos algún valor para que comprobar que la función funciona, ya que luego swe convertirá en clave y éstas han de ser únicas en un diccionario\n",
    "- Creamos una variable a la que llamaremos \"nuevo_diccionario2\" y la usaremos para guardar la función, a la que pasaremos como argumento el nombre del diccionario ficticio creado con los valores a invertir.\n",
    "- Realizamos un print de la variable."
   ]
  },
  {
   "cell_type": "code",
   "execution_count": null,
   "id": "912528e4",
   "metadata": {},
   "outputs": [],
   "source": [
    "encuesta = {\n",
    "    \"Manuel\": \"sí\",\n",
    "    \"Juan\": \"no\",\n",
    "    \"Rosa\": \"seguro que no\",\n",
    "    \"Maria\": \"sí\",\n",
    "    \"Iris\": \"probablemente\",\n",
    "    \"Gemma\": \"quizá\",\n",
    "    \"Pedro\": \"seguramente sí\",\n",
    "}\n",
    "\n",
    "nuevo_diccionario2 = invertir_dic(encuesta)\n",
    "print(nuevo_diccionario2)"
   ]
  },
  {
   "cell_type": "markdown",
   "id": "e2c9b07a",
   "metadata": {},
   "source": [
    "# Exercici 2: conversió de tipus de dades\n",
    "\n",
    "El client rep una llista de dades i necessita generar dues llistes, la primera on estaran tots els elements que es van poder convertir en flotants i l'altra on estan els elements que no es van poder convertir. Exemple de la llista que rep el client: [ '1.3', 'one' , '1e10' , 'seven', '3-1/2', ('2',1,1.4,'not-a-number'), [1,2,'3','3.4']]"
   ]
  },
  {
   "cell_type": "markdown",
   "id": "3d29eaed",
   "metadata": {},
   "source": [
    "Explicación del código\n",
    "\n",
    "- Definimos una función llamada \"separar_convertibles_float\" que recibe un argumento llamado \"lista_datos\"\n",
    "- Creamos dos listas vacias, una para los elementos que se han podido convertir a flotantes y otra para los elementos que no pueden ser convertidos a flotantes.\n",
    "- Mediante un bucle for, recorremos cada elemento de la lista original empleando la variable \"datos\", verificando que si la variable datos es una lista o una tupla.\n",
    "- Si es una lista o tupla, llamamos a la función de forma recursiva para trabajaqr con estructuras anidadas, y agregaremos los resultados a la lista de flotantes o de no_convertibles antes creadas.\n",
    "- Si el dato no forma parte de una lista o una tupla, se intenta convertir a float. Si no puede convertirse, se añade a la lista de \"no_convertibles\" sin romper el programa\n",
    "- Pedimos que al acabar la función se nos devuelvan las dos listas con \"return\""
   ]
  },
  {
   "cell_type": "code",
   "execution_count": null,
   "id": "3075ff92",
   "metadata": {},
   "outputs": [],
   "source": [
    "lista_datos = [ '1.3', 'one' , '1e10' , 'seven', '3-1/2', ('2',1,1.4,'not-a-number'), [1,2,'3','3.4']]"
   ]
  },
  {
   "cell_type": "code",
   "execution_count": null,
   "id": "4c1da4a2",
   "metadata": {},
   "outputs": [],
   "source": [
    "def separar_convertibles(lista_datos):\n",
    "    flotantes = []\n",
    "    no_convertibles = []\n",
    "\n",
    "    for dato in lista_datos:\n",
    "        if isinstance(datos, (list, tuple)):\n",
    "            f, n = separar_convertibles(dato)\n",
    "            flotantes += f\n",
    "            no_convertibles += n\n",
    "        else:\n",
    "            try:\n",
    "                flotantes.append(float(dato))\n",
    "            except (ValueError, TypeError):\n",
    "                no_convertibles.append(dato)\n",
    "\n",
    "\n",
    "    return flotantes, no_convertibles"
   ]
  },
  {
   "cell_type": "markdown",
   "id": "63b7db35",
   "metadata": {},
   "source": [
    "Explicación del código:\n",
    "\n",
    "- Llamamos a la función y le pasamos como argumento la lista \"lista_datos\"\n",
    "- Almacenamos las dos listas que nos devuelve la función en las variables \"lista_flotantes\" y \"lista_no_convertibles\"\n",
    "- Hacemos un print de cada una de esas variables\n"
   ]
  },
  {
   "cell_type": "code",
   "execution_count": null,
   "id": "32a89716",
   "metadata": {},
   "outputs": [],
   "source": [
    "\n",
    "lista_flotantes, lista_no_convertibles = separar_convertibles(lista_datos)\n",
    "\n",
    "print(\"Elementos convertidos a flotantes:\", lista_flotantes)\n",
    "print(\"Elementos sin conversión posible a flotantes:\", lista_no_convertibles)\n"
   ]
  },
  {
   "cell_type": "markdown",
   "id": "bec7a464",
   "metadata": {},
   "source": [
    "# Nivel 3"
   ]
  },
  {
   "cell_type": "markdown",
   "id": "b78cdfc8",
   "metadata": {},
   "source": [
    "# Exercici 1: comptador i endreçador de paraules d'un text\n",
    "\n",
    "El client va quedar content amb el comptador de paraules, però ara vol llegir arxius TXT i que calculi la freqüència de cada paraula ordenades dins de les entrades habituals del diccionari segons la lletra amb la qual comencen, és a dir, les claus han d'anar de la A a la Z i dins de la A hem d'anar de la A la Z. Per exemple, per a l'arxiu \"tu_me_quieres_blanca.txt\" la sortida esperada seria:"
   ]
  },
  {
   "cell_type": "markdown",
   "id": "3f558464",
   "metadata": {},
   "source": [
    "Explicación del código:\n",
    "\n",
    "- Importamos las librerías re (para limpiar el texto con expresiones regulares) y string (para trabajar con cadenas de caracteres)"
   ]
  },
  {
   "cell_type": "code",
   "execution_count": 4,
   "id": "66e1e042",
   "metadata": {},
   "outputs": [],
   "source": [
    "#importamos el módulo re para trabajar con expresiones regulares\n",
    "import re\n",
    "\n",
    "#importamos el módulo string para trabajar con cadenas de caracteres\n",
    "import string"
   ]
  },
  {
   "cell_type": "markdown",
   "id": "223fe9a0",
   "metadata": {},
   "source": [
    "Explicación del código:\n",
    "\n",
    "- Definimos la función lector_txt con el argumento \"archivo\". Nos servirá para leer el texto a analizar."
   ]
  },
  {
   "cell_type": "code",
   "execution_count": 17,
   "id": "c40613f2",
   "metadata": {},
   "outputs": [],
   "source": [
    "def lector_txt(archivo):\n",
    "\n",
    "    #abrimos el archivo con with open y lo guardamos en la variable texto\n",
    "    with open(archivo, 'r', encoding='utf-8') as txt:\n",
    "        texto = txt.read()\n",
    "\n",
    "    return texto"
   ]
  },
  {
   "cell_type": "markdown",
   "id": "24a908eb",
   "metadata": {},
   "source": [
    "Explicación del código:\n",
    "\n",
    "- Creamos una función llamada \"limpiar_texto\" y le asignamos el argumento \"texto\"\n",
    "- Mediante regular expressions, limpiamos el texto. Usamos la función \"sub\" del módulo \"re\"\n",
    "- Hacemos return de \"texto_limpio\""
   ]
  },
  {
   "cell_type": "code",
   "execution_count": null,
   "id": "9b09140f",
   "metadata": {},
   "outputs": [],
   "source": [
    "def limpiar_texto(texto):\n",
    "    #buscamos cualquier carácter que no sea (\"^\") ni alfanumérico (\"\\w\", como letras, números, guiones bajos),\n",
    "    #ni espacio en blanco (\"\\s\") en la variable texto, y los reemplazamos por espacios vacios\n",
    "    texto_limpio = re.sub(r'[^\\w\\s]', '', texto)\n",
    "    return texto_limpio"
   ]
  },
  {
   "cell_type": "markdown",
   "id": "7e5fb376",
   "metadata": {},
   "source": [
    "Explicación del código:\n",
    "\n",
    "- Definimos la función \"ccontador_palabras\" y le damos el argumento \"texto_limpio\"\n",
    "- Separamos el texto en palabras con .split()\n",
    "- Creamos el diccionario anidado utilizando la función string.ascii_lowercase del módulo string, que nos devuelve el alfabeto en minúsculas para crear las claves de la a a la z.\n",
    "- En un nuevo diccionario llamado frecuencia_palabras, contamos la frecuencia de cada palabra. Si la palabra ya está en el diccionario, le sumará +1. Si no está, la añadirá por primera vez\n",
    "- Reiniciamos el diccionario y organizamos sus elementos con sorted() para organizar los valores alfabéticamente\n",
    "- Organizamos el dicionario y realizamos agrupaciones por su letra inicial, ubicada en la posición de índice 0\n",
    "- Pedimos el retorno del diccionario por letra"
   ]
  },
  {
   "cell_type": "code",
   "execution_count": 40,
   "id": "56b04763",
   "metadata": {},
   "outputs": [],
   "source": [
    "def contador_palabras(texto_limpio):\n",
    "    palabras = texto_limpio.split()\n",
    "    diccionario_por_letra = {letra: {} for letra in string.ascii_lowercase}\n",
    "\n",
    "    frecuencia_palabras = {}\n",
    "    for palabra in palabras:\n",
    "        if palabra in frecuencia_palabras:\n",
    "            frecuencia_palabras[palabra] += 1\n",
    "        else:\n",
    "            frecuencia_palabras[palabra] = 1\n",
    "\n",
    "    frecuencia_palabras = dict(sorted(frecuencia_palabras.items()))\n",
    "\n",
    "    #agregamos cada palabra al diccionario según su letra inicial\n",
    "    for palabra, frecuencia in frecuencia_palabras.items():\n",
    "        primera_letra = palabra[0]\n",
    "        if primera_letra in diccionario_por_letra:\n",
    "            diccionario_por_letra[primera_letra][palabra] = frecuencia\n",
    "\n",
    "    return diccionario_por_letra\n"
   ]
  },
  {
   "cell_type": "markdown",
   "id": "1e756ce2",
   "metadata": {},
   "source": [
    "Explicación del código:\n",
    "\n",
    "- Llamamos a las funciones a partir del texto que queremos analizar.\n",
    "- Vamos guardando el retorno de cada diccionario en variables para mostrar el resultado final"
   ]
  },
  {
   "cell_type": "code",
   "execution_count": 41,
   "id": "38ff700a",
   "metadata": {},
   "outputs": [
    {
     "data": {
      "text/plain": [
       "{'a': {'a': 3,\n",
       "  'agua': 1,\n",
       "  'al': 2,\n",
       "  'alba': 4,\n",
       "  'alcobas': 1,\n",
       "  'alimenta': 1,\n",
       "  'alma': 1,\n",
       "  'amarga': 1,\n",
       "  'azucena': 1},\n",
       " 'b': {'banquete': 1,\n",
       "  'bebe': 1,\n",
       "  'blanca': 3,\n",
       "  'boca': 1,\n",
       "  'bosques': 1,\n",
       "  'buen': 1},\n",
       " 'c': {'cabañas': 1,\n",
       "  'carnes': 2,\n",
       "  'casta': 3,\n",
       "  'cerrada': 1,\n",
       "  'con': 4,\n",
       "  'conservas': 1,\n",
       "  'copas': 1,\n",
       "  'corriste': 1,\n",
       "  'cuando': 2,\n",
       "  'cubierto': 1,\n",
       "  'cuerpo': 1,\n",
       "  'cuáles': 1},\n",
       " 'd': {'de': 7, 'dejaste': 1, 'del': 1, 'diga': 1, 'duerme': 1},\n",
       " 'e': {'el': 4,\n",
       "  'ellas': 1,\n",
       "  'en': 4,\n",
       "  'enredada': 1,\n",
       "  'entonces': 1,\n",
       "  'escarcha': 1,\n",
       "  'espumas': 1,\n",
       "  'esqueleto': 1},\n",
       " 'f': {'festejando': 1, 'filtrado': 1, 'frutos': 1},\n",
       " 'g': {},\n",
       " 'h': {'hacia': 1,\n",
       "  'haya': 1,\n",
       "  'hayas': 1,\n",
       "  'hermana': 1,\n",
       "  'hombre': 1,\n",
       "  'hubiste': 1},\n",
       " 'i': {'intacto': 1},\n",
       " 'j': {'jardines': 1},\n",
       " 'k': {},\n",
       " 'l': {'la': 3,\n",
       "  'labios': 1,\n",
       "  'las': 7,\n",
       "  'lo': 2,\n",
       "  'los': 4,\n",
       "  'luna': 1,\n",
       "  'lévate': 1,\n",
       "  'límpiate': 1},\n",
       " 'm': {'mano': 1,\n",
       "  'manos': 1,\n",
       "  'margarita': 1,\n",
       "  'me': 10,\n",
       "  'mi': 1,\n",
       "  'mieles': 1,\n",
       "  'milagros': 1,\n",
       "  'mojada': 1,\n",
       "  'montaña': 1,\n",
       "  'morados': 1},\n",
       " 'n': {'negros': 1, 'no': 1, 'nácar': 1, 'nívea': 2},\n",
       " 'o': {},\n",
       " 'p': {'perdone': 2,\n",
       "  'perfume': 1,\n",
       "  'por': 2,\n",
       "  'pretendes': 3,\n",
       "  'preténdeme': 3,\n",
       "  'puesto': 1,\n",
       "  'pájaros': 1,\n",
       "  'pámpanos': 1},\n",
       " 'q': {'que': 5, 'quedó': 1, 'quieres': 6},\n",
       " 'r': {'rayo': 1, 'raíz': 1, 'renueva': 1, 'rocas': 1, 'rojo': 1},\n",
       " 's': {'salitre': 1, 'se': 2, 'sea': 1, 'sean': 1, 'sobre': 1, 'sé': 1},\n",
       " 't': {'te': 3,\n",
       "  'tejidos': 1,\n",
       "  'tenue': 1,\n",
       "  'tierra': 1,\n",
       "  'toca': 1,\n",
       "  'todas': 2,\n",
       "  'todavía': 1,\n",
       "  'tornadas': 1,\n",
       "  'tú': 2},\n",
       " 'u': {'un': 1, 'una': 1},\n",
       " 'v': {'vestido': 1, 'vete': 1, 'vive': 1},\n",
       " 'w': {},\n",
       " 'x': {},\n",
       " 'y': {'y': 4},\n",
       " 'z': {}}"
      ]
     },
     "execution_count": 41,
     "metadata": {},
     "output_type": "execute_result"
    }
   ],
   "source": [
    "texto = lector_txt(\"tu_me_quieres_blanca.txt\")\n",
    "texto_limpio = limpiar_texto(texto)\n",
    "dic_letras = contador_palabras(texto_limpio)\n",
    "dic_letras"
   ]
  }
 ],
 "metadata": {
  "kernelspec": {
   "display_name": "Python 3",
   "language": "python",
   "name": "python3"
  },
  "language_info": {
   "codemirror_mode": {
    "name": "ipython",
    "version": 3
   },
   "file_extension": ".py",
   "mimetype": "text/x-python",
   "name": "python",
   "nbconvert_exporter": "python",
   "pygments_lexer": "ipython3",
   "version": "3.11.9"
  }
 },
 "nbformat": 4,
 "nbformat_minor": 5
}
